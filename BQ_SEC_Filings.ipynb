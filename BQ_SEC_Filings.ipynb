{
 "cells": [
  {
   "cell_type": "code",
   "execution_count": 3,
   "id": "a38945be-cdc3-434b-8697-477a4c50037e",
   "metadata": {},
   "outputs": [],
   "source": [
    "from google.cloud import bigquery\n",
    "import os\n",
    "\n",
    "os.environ[\"GOOGLE_APPLICATION_CREDENTIALS\"]=\"bqexercise.json\"\n",
    "client = bigquery.Client()"
   ]
  },
  {
   "cell_type": "code",
   "execution_count": 6,
   "id": "3b3874ae-d513-41cf-a90f-90331b84c776",
   "metadata": {},
   "outputs": [],
   "source": [
    "# Constructing a reference to the 'SEC' dataset\n",
    "\n",
    "df_ref = client.dataset('sec_quarterly_financials', project = 'bigquery-public-data')"
   ]
  },
  {
   "cell_type": "code",
   "execution_count": 7,
   "id": "ce19221d-dbf0-4b1d-834c-b84825531afa",
   "metadata": {},
   "outputs": [],
   "source": [
    "# Building API request\n",
    "\n",
    "dataset = client.get_dataset(df_ref)"
   ]
  },
  {
   "cell_type": "code",
   "execution_count": 8,
   "id": "7de029d7-0fbc-4845-adda-ba95f594063c",
   "metadata": {},
   "outputs": [],
   "source": [
    "# List tables in 'hacker news' dataset\n",
    "\n",
    "tables = list(client.list_tables(dataset))\n",
    "list_of_tables = [table.table_id for table in tables] "
   ]
  },
  {
   "cell_type": "code",
   "execution_count": 9,
   "id": "38595a34-179d-42f7-939a-602f6227cd06",
   "metadata": {},
   "outputs": [
    {
     "name": "stdout",
     "output_type": "stream",
     "text": [
      "['calculation', 'dimension', 'measure_tag', 'numbers', 'presentation', 'quick_summary', 'rendering', 'sic_codes', 'submission', 'txt']\n"
     ]
    }
   ],
   "source": [
    "print(list_of_tables)"
   ]
  },
  {
   "cell_type": "code",
   "execution_count": 16,
   "id": "983235b8-ceba-4caf-afc6-2bdf3cbff38f",
   "metadata": {},
   "outputs": [],
   "source": [
    "# Building reference to the quick_summary table: \n",
    "table_ref = df_ref.table('quick_summary')\n",
    "\n",
    "# API request: fetch the table.\n",
    "table = client.get_table(table_ref)"
   ]
  },
  {
   "cell_type": "code",
   "execution_count": 17,
   "id": "df3c9c33-c5e0-4d9a-be4f-6dfd98359cef",
   "metadata": {},
   "outputs": [
    {
     "data": {
      "text/plain": [
       "[SchemaField('submission_number', 'STRING', 'REQUIRED', 'Accession Number. The 20-character string formed from the 18-digit number assigned by the Commission to each EDGAR submission. submission_number: [adsh]', (), ()),\n",
       " SchemaField('company_name', 'STRING', 'NULLABLE', 'Name of registrant from the submission table. This corresponds to the name of the legal entity as recorded in EDGAR as of the filing date.', (), ()),\n",
       " SchemaField('measure_tag', 'STRING', 'REQUIRED', 'The unique identifier (name) for a tag in a specific taxonomy release. measure_tag: [tag]', (), ()),\n",
       " SchemaField('period_end_date', 'STRING', 'REQUIRED', 'The end date for the data value, rounded to the nearest month end. period_end_date: [ddate]', (), ()),\n",
       " SchemaField('value', 'FLOAT', 'NULLABLE', 'The value. This is not scaled, it is as found in the Interactive Data file, but is rounded to four digits to the right of the decimal point.', (), ()),\n",
       " SchemaField('units', 'STRING', 'REQUIRED', 'The unit of measure for the value. units: [uom]', (), ()),\n",
       " SchemaField('number_of_quarters', 'INTEGER', 'REQUIRED', 'The count of the number of quarters represented by the data value, rounded to the nearest whole number. \\\\\"0\\\\\" indicates it is a point-in-time value. number_of_quarters: [qtrs]', (), ()),\n",
       " SchemaField('version', 'STRING', 'REQUIRED', 'For a standard tag, an identifier for the taxonomy; otherwise the accession number where the tag was defined.', (), ()),\n",
       " SchemaField('central_index_key', 'INTEGER', 'NULLABLE', 'Central Index Key (CIK). Ten digit number assigned by the Commission to each registrant that submits filings. central_index_key: [cik]', (), ()),\n",
       " SchemaField('ein', 'STRING', 'NULLABLE', 'Employee Identification Number, 9 digit identification number assigned by the Internal Revenue Service to business entities operating in the United States.', (), ()),\n",
       " SchemaField('sic', 'STRING', 'NULLABLE', \"Standard Industrial Classification (SIC). Four digit code assigned by the Commission as of the filing date, indicating the registrant's type of business.\", (), ()),\n",
       " SchemaField('fiscal_year_end', 'STRING', 'NULLABLE', 'Fiscal Year End Date. fiscal_year_end: [fye]', (), ()),\n",
       " SchemaField('form', 'STRING', 'NULLABLE', \"The submission type of the registrant's filing.\", (), ()),\n",
       " SchemaField('fiscal_year', 'INTEGER', 'NULLABLE', 'Fiscal Year Focus (as defined in EFM Ch. 6). fiscal_year: [fy]', (), ()),\n",
       " SchemaField('fiscal_period_focus', 'STRING', 'NULLABLE', 'Fiscal Period Focus (as defined in EFM Ch. 6) within Fiscal Year. The 10-Q for the 1st, 2nd and 3rd quarters would have a fiscal period focus of Q1, Q2 (or H1), and Q3 (or M9) respectively, and a 10-K would have a fiscal period focus of FY. fiscal_period_focus: [fp]', (), ()),\n",
       " SchemaField('date_filed', 'INTEGER', 'NULLABLE', \"The date of the registrant's filing with the Commission. date_filed: [filed]\", (), ()),\n",
       " SchemaField('date_accepted', 'TIMESTAMP', 'NULLABLE', \"The acceptance date and time of the registrant's filing with the Commission. Filings accepted after 5:30pm EST are considered filed on the following business day. date_accepted: [accepted]\", (), ())]"
      ]
     },
     "execution_count": 17,
     "metadata": {},
     "output_type": "execute_result"
    }
   ],
   "source": [
    "table.schema"
   ]
  },
  {
   "cell_type": "code",
   "execution_count": 18,
   "id": "32d09a64-c603-4ffb-bdcf-5a105b20d0c0",
   "metadata": {},
   "outputs": [
    {
     "data": {
      "text/html": [
       "<div>\n",
       "<style scoped>\n",
       "    .dataframe tbody tr th:only-of-type {\n",
       "        vertical-align: middle;\n",
       "    }\n",
       "\n",
       "    .dataframe tbody tr th {\n",
       "        vertical-align: top;\n",
       "    }\n",
       "\n",
       "    .dataframe thead th {\n",
       "        text-align: right;\n",
       "    }\n",
       "</style>\n",
       "<table border=\"1\" class=\"dataframe\">\n",
       "  <thead>\n",
       "    <tr style=\"text-align: right;\">\n",
       "      <th></th>\n",
       "      <th>submission_number</th>\n",
       "      <th>company_name</th>\n",
       "      <th>measure_tag</th>\n",
       "      <th>period_end_date</th>\n",
       "      <th>value</th>\n",
       "      <th>units</th>\n",
       "      <th>number_of_quarters</th>\n",
       "      <th>version</th>\n",
       "      <th>central_index_key</th>\n",
       "      <th>ein</th>\n",
       "      <th>sic</th>\n",
       "      <th>fiscal_year_end</th>\n",
       "      <th>form</th>\n",
       "      <th>fiscal_year</th>\n",
       "      <th>fiscal_period_focus</th>\n",
       "      <th>date_filed</th>\n",
       "      <th>date_accepted</th>\n",
       "    </tr>\n",
       "  </thead>\n",
       "  <tbody>\n",
       "    <tr>\n",
       "      <th>0</th>\n",
       "      <td>0001437749-17-000102</td>\n",
       "      <td>NATIONAL HOLDINGS CORP</td>\n",
       "      <td>Liabilities</td>\n",
       "      <td>20160930</td>\n",
       "      <td>34773000.0</td>\n",
       "      <td>USD</td>\n",
       "      <td>0</td>\n",
       "      <td>us-gaap/2016</td>\n",
       "      <td>1023844</td>\n",
       "      <td>364128138</td>\n",
       "      <td>6200</td>\n",
       "      <td>0930</td>\n",
       "      <td>S-1/A</td>\n",
       "      <td>2016</td>\n",
       "      <td>FY</td>\n",
       "      <td>20170104</td>\n",
       "      <td>2017-01-04 12:20:00+00:00</td>\n",
       "    </tr>\n",
       "    <tr>\n",
       "      <th>1</th>\n",
       "      <td>0001062993-17-000442</td>\n",
       "      <td>XIANGTIAN (USA) AIR POWER CO., LTD.</td>\n",
       "      <td>CostOfGoodsSold</td>\n",
       "      <td>20140731</td>\n",
       "      <td>0.0</td>\n",
       "      <td>USD</td>\n",
       "      <td>4</td>\n",
       "      <td>us-gaap/2015</td>\n",
       "      <td>1472468</td>\n",
       "      <td>980632932</td>\n",
       "      <td>3621</td>\n",
       "      <td>0731</td>\n",
       "      <td>POS AM</td>\n",
       "      <td>2017</td>\n",
       "      <td>Q1</td>\n",
       "      <td>20170131</td>\n",
       "      <td>2017-01-30 17:34:00+00:00</td>\n",
       "    </tr>\n",
       "    <tr>\n",
       "      <th>2</th>\n",
       "      <td>0001564590-17-000589</td>\n",
       "      <td>SCHLUMBERGER LIMITED/NV</td>\n",
       "      <td>DeferredTaxLiabilitiesPropertyPlantAndEquipment</td>\n",
       "      <td>20161231</td>\n",
       "      <td>79000000.0</td>\n",
       "      <td>USD</td>\n",
       "      <td>0</td>\n",
       "      <td>us-gaap/2016</td>\n",
       "      <td>87347</td>\n",
       "      <td>520684746</td>\n",
       "      <td>1389</td>\n",
       "      <td>1231</td>\n",
       "      <td>10-K</td>\n",
       "      <td>2016</td>\n",
       "      <td>FY</td>\n",
       "      <td>20170125</td>\n",
       "      <td>2017-01-25 11:34:00+00:00</td>\n",
       "    </tr>\n",
       "    <tr>\n",
       "      <th>3</th>\n",
       "      <td>0001558370-17-000064</td>\n",
       "      <td>HELEN OF TROY LTD</td>\n",
       "      <td>OtherComprehensiveIncomeLossNetOfTaxPortionAtt...</td>\n",
       "      <td>20151130</td>\n",
       "      <td>1805000.0</td>\n",
       "      <td>USD</td>\n",
       "      <td>3</td>\n",
       "      <td>us-gaap/2016</td>\n",
       "      <td>916789</td>\n",
       "      <td>742692550</td>\n",
       "      <td>3634</td>\n",
       "      <td>0229</td>\n",
       "      <td>10-Q</td>\n",
       "      <td>2016</td>\n",
       "      <td>Q3</td>\n",
       "      <td>20170109</td>\n",
       "      <td>2017-01-09 16:00:00+00:00</td>\n",
       "    </tr>\n",
       "    <tr>\n",
       "      <th>4</th>\n",
       "      <td>0001674862-17-000006</td>\n",
       "      <td>ASHLAND GLOBAL HOLDINGS INC</td>\n",
       "      <td>DepreciationDepletionAndAmortization</td>\n",
       "      <td>20161231</td>\n",
       "      <td>77000000.0</td>\n",
       "      <td>USD</td>\n",
       "      <td>1</td>\n",
       "      <td>us-gaap/2015</td>\n",
       "      <td>1674862</td>\n",
       "      <td>812587835</td>\n",
       "      <td>5160</td>\n",
       "      <td>0930</td>\n",
       "      <td>10-Q</td>\n",
       "      <td>2017</td>\n",
       "      <td>Q1</td>\n",
       "      <td>20170127</td>\n",
       "      <td>2017-01-27 16:04:00+00:00</td>\n",
       "    </tr>\n",
       "  </tbody>\n",
       "</table>\n",
       "</div>"
      ],
      "text/plain": [
       "      submission_number                         company_name  \\\n",
       "0  0001437749-17-000102               NATIONAL HOLDINGS CORP   \n",
       "1  0001062993-17-000442  XIANGTIAN (USA) AIR POWER CO., LTD.   \n",
       "2  0001564590-17-000589              SCHLUMBERGER LIMITED/NV   \n",
       "3  0001558370-17-000064                    HELEN OF TROY LTD   \n",
       "4  0001674862-17-000006          ASHLAND GLOBAL HOLDINGS INC   \n",
       "\n",
       "                                         measure_tag period_end_date  \\\n",
       "0                                        Liabilities        20160930   \n",
       "1                                    CostOfGoodsSold        20140731   \n",
       "2    DeferredTaxLiabilitiesPropertyPlantAndEquipment        20161231   \n",
       "3  OtherComprehensiveIncomeLossNetOfTaxPortionAtt...        20151130   \n",
       "4               DepreciationDepletionAndAmortization        20161231   \n",
       "\n",
       "        value units  number_of_quarters       version  central_index_key  \\\n",
       "0  34773000.0   USD                   0  us-gaap/2016            1023844   \n",
       "1         0.0   USD                   4  us-gaap/2015            1472468   \n",
       "2  79000000.0   USD                   0  us-gaap/2016              87347   \n",
       "3   1805000.0   USD                   3  us-gaap/2016             916789   \n",
       "4  77000000.0   USD                   1  us-gaap/2015            1674862   \n",
       "\n",
       "         ein   sic fiscal_year_end    form  fiscal_year fiscal_period_focus  \\\n",
       "0  364128138  6200            0930   S-1/A         2016                  FY   \n",
       "1  980632932  3621            0731  POS AM         2017                  Q1   \n",
       "2  520684746  1389            1231    10-K         2016                  FY   \n",
       "3  742692550  3634            0229    10-Q         2016                  Q3   \n",
       "4  812587835  5160            0930    10-Q         2017                  Q1   \n",
       "\n",
       "   date_filed             date_accepted  \n",
       "0    20170104 2017-01-04 12:20:00+00:00  \n",
       "1    20170131 2017-01-30 17:34:00+00:00  \n",
       "2    20170125 2017-01-25 11:34:00+00:00  \n",
       "3    20170109 2017-01-09 16:00:00+00:00  \n",
       "4    20170127 2017-01-27 16:04:00+00:00  "
      ]
     },
     "execution_count": 18,
     "metadata": {},
     "output_type": "execute_result"
    }
   ],
   "source": [
    "# Previewing the first five lines of the \"quick_summary\" table:\n",
    "\n",
    "client.list_rows(table, max_results = 5).to_dataframe()"
   ]
  },
  {
   "cell_type": "code",
   "execution_count": 19,
   "id": "2a266275-9895-4d45-99a7-dd6e361d0316",
   "metadata": {},
   "outputs": [],
   "source": [
    "# Building reference to the calculation table: \n",
    "table_ref_calc = df_ref.table('calculation')\n",
    "\n",
    "# API request: fetch the table.\n",
    "table_calc = client.get_table(table_ref_calc)"
   ]
  },
  {
   "cell_type": "code",
   "execution_count": 65,
   "id": "f0000b4f-2bf6-4bc1-8b9a-d3d8ba5a9550",
   "metadata": {},
   "outputs": [
    {
     "data": {
      "text/html": [
       "<div>\n",
       "<style scoped>\n",
       "    .dataframe tbody tr th:only-of-type {\n",
       "        vertical-align: middle;\n",
       "    }\n",
       "\n",
       "    .dataframe tbody tr th {\n",
       "        vertical-align: top;\n",
       "    }\n",
       "\n",
       "    .dataframe thead th {\n",
       "        text-align: right;\n",
       "    }\n",
       "</style>\n",
       "<table border=\"1\" class=\"dataframe\">\n",
       "  <thead>\n",
       "    <tr style=\"text-align: right;\">\n",
       "      <th></th>\n",
       "      <th>submission_number</th>\n",
       "      <th>group</th>\n",
       "      <th>arc</th>\n",
       "      <th>negative</th>\n",
       "      <th>parent_tag</th>\n",
       "      <th>parent_version</th>\n",
       "      <th>child_tag</th>\n",
       "      <th>child_version</th>\n",
       "    </tr>\n",
       "  </thead>\n",
       "  <tbody>\n",
       "    <tr>\n",
       "      <th>0</th>\n",
       "      <td>0000277948-09-000066</td>\n",
       "      <td>1</td>\n",
       "      <td>18</td>\n",
       "      <td>1</td>\n",
       "      <td>Assets</td>\n",
       "      <td>us-gaap/2008</td>\n",
       "      <td>Assets</td>\n",
       "      <td>us-gaap/2008</td>\n",
       "    </tr>\n",
       "    <tr>\n",
       "      <th>1</th>\n",
       "      <td>0000277948-09-000066</td>\n",
       "      <td>1</td>\n",
       "      <td>29</td>\n",
       "      <td>1</td>\n",
       "      <td>Assets</td>\n",
       "      <td>us-gaap/2008</td>\n",
       "      <td>Assets</td>\n",
       "      <td>us-gaap/2008</td>\n",
       "    </tr>\n",
       "    <tr>\n",
       "      <th>2</th>\n",
       "      <td>0000277948-09-000066</td>\n",
       "      <td>1</td>\n",
       "      <td>30</td>\n",
       "      <td>1</td>\n",
       "      <td>Assets</td>\n",
       "      <td>us-gaap/2008</td>\n",
       "      <td>Assets</td>\n",
       "      <td>us-gaap/2008</td>\n",
       "    </tr>\n",
       "    <tr>\n",
       "      <th>3</th>\n",
       "      <td>0000277948-09-000066</td>\n",
       "      <td>1</td>\n",
       "      <td>25</td>\n",
       "      <td>1</td>\n",
       "      <td>Assets</td>\n",
       "      <td>us-gaap/2008</td>\n",
       "      <td>Assets</td>\n",
       "      <td>us-gaap/2008</td>\n",
       "    </tr>\n",
       "    <tr>\n",
       "      <th>4</th>\n",
       "      <td>0000277948-09-000066</td>\n",
       "      <td>1</td>\n",
       "      <td>28</td>\n",
       "      <td>1</td>\n",
       "      <td>Assets</td>\n",
       "      <td>us-gaap/2008</td>\n",
       "      <td>Assets</td>\n",
       "      <td>us-gaap/2008</td>\n",
       "    </tr>\n",
       "  </tbody>\n",
       "</table>\n",
       "</div>"
      ],
      "text/plain": [
       "      submission_number  group  arc  negative parent_tag parent_version  \\\n",
       "0  0000277948-09-000066      1   18         1     Assets   us-gaap/2008   \n",
       "1  0000277948-09-000066      1   29         1     Assets   us-gaap/2008   \n",
       "2  0000277948-09-000066      1   30         1     Assets   us-gaap/2008   \n",
       "3  0000277948-09-000066      1   25         1     Assets   us-gaap/2008   \n",
       "4  0000277948-09-000066      1   28         1     Assets   us-gaap/2008   \n",
       "\n",
       "  child_tag child_version  \n",
       "0    Assets  us-gaap/2008  \n",
       "1    Assets  us-gaap/2008  \n",
       "2    Assets  us-gaap/2008  \n",
       "3    Assets  us-gaap/2008  \n",
       "4    Assets  us-gaap/2008  "
      ]
     },
     "execution_count": 65,
     "metadata": {},
     "output_type": "execute_result"
    }
   ],
   "source": [
    "# Previewing the first five lines of the \"calculation\" table:\n",
    "\n",
    "client.list_rows(table_calc, max_results = 5).to_dataframe()"
   ]
  },
  {
   "cell_type": "code",
   "execution_count": 95,
   "id": "7873374f-f7c2-4b5d-84fc-7b7f953cfc7d",
   "metadata": {},
   "outputs": [],
   "source": [
    "# Joining the tables\n",
    "\n",
    "join_query = \"\"\"\n",
    "            select qs.company_name, qs.ein, c.group, sum(value) as total_value\n",
    "            from `bigquery-public-data.sec_quarterly_financials.quick_summary` as qs\n",
    "            inner join `bigquery-public-data.sec_quarterly_financials.calculation` as c\n",
    "                on c.submission_number = qs.submission_number\n",
    "            where fiscal_year = 2017\n",
    "            group by qs.company_name, qs.ein, c.group\n",
    "            order by total_value DESC\n",
    "            limit 10000\n",
    "            \"\"\""
   ]
  },
  {
   "cell_type": "code",
   "execution_count": 96,
   "id": "8323697d-2f62-406a-bee4-c92c46732192",
   "metadata": {},
   "outputs": [],
   "source": [
    "# Set up the query (cancel the query if it would use too much of \n",
    "# your quota, with the limit set to 10 GB)\n",
    "safe_config = bigquery.QueryJobConfig(maximum_bytes_billed=10**10)\n",
    "query_job = client.query(join_query, job_config=safe_config)\n",
    "\n",
    "# API request - run the query, and convert the results to a pandas DataFrame\n",
    "join_sec = query_job.to_dataframe()"
   ]
  },
  {
   "cell_type": "code",
   "execution_count": 97,
   "id": "1544941f-0f6d-4ba8-990f-c19b9e5323f3",
   "metadata": {},
   "outputs": [
    {
     "data": {
      "text/html": [
       "<div>\n",
       "<style scoped>\n",
       "    .dataframe tbody tr th:only-of-type {\n",
       "        vertical-align: middle;\n",
       "    }\n",
       "\n",
       "    .dataframe tbody tr th {\n",
       "        vertical-align: top;\n",
       "    }\n",
       "\n",
       "    .dataframe thead th {\n",
       "        text-align: right;\n",
       "    }\n",
       "</style>\n",
       "<table border=\"1\" class=\"dataframe\">\n",
       "  <thead>\n",
       "    <tr style=\"text-align: right;\">\n",
       "      <th></th>\n",
       "      <th>company_name</th>\n",
       "      <th>ein</th>\n",
       "      <th>group</th>\n",
       "      <th>total_value</th>\n",
       "    </tr>\n",
       "  </thead>\n",
       "  <tbody>\n",
       "    <tr>\n",
       "      <th>0</th>\n",
       "      <td>CREATIVE REALITIES, INC.</td>\n",
       "      <td>411967918</td>\n",
       "      <td>2</td>\n",
       "      <td>1.069411e+19</td>\n",
       "    </tr>\n",
       "    <tr>\n",
       "      <th>1</th>\n",
       "      <td>CREATIVE REALITIES, INC.</td>\n",
       "      <td>411967918</td>\n",
       "      <td>3</td>\n",
       "      <td>1.069411e+19</td>\n",
       "    </tr>\n",
       "    <tr>\n",
       "      <th>2</th>\n",
       "      <td>CREATIVE REALITIES, INC.</td>\n",
       "      <td>411967918</td>\n",
       "      <td>1</td>\n",
       "      <td>8.713716e+18</td>\n",
       "    </tr>\n",
       "    <tr>\n",
       "      <th>3</th>\n",
       "      <td>WOORI BANK</td>\n",
       "      <td>000000000</td>\n",
       "      <td>4</td>\n",
       "      <td>1.019612e+18</td>\n",
       "    </tr>\n",
       "    <tr>\n",
       "      <th>4</th>\n",
       "      <td>KB FINANCIAL GROUP INC.</td>\n",
       "      <td>000000000</td>\n",
       "      <td>5</td>\n",
       "      <td>9.551098e+17</td>\n",
       "    </tr>\n",
       "    <tr>\n",
       "      <th>...</th>\n",
       "      <td>...</td>\n",
       "      <td>...</td>\n",
       "      <td>...</td>\n",
       "      <td>...</td>\n",
       "    </tr>\n",
       "    <tr>\n",
       "      <th>9995</th>\n",
       "      <td>BRITISH TELECOMMUNICATIONS PLC /ADR</td>\n",
       "      <td>000000000</td>\n",
       "      <td>11</td>\n",
       "      <td>2.942280e+13</td>\n",
       "    </tr>\n",
       "    <tr>\n",
       "      <th>9996</th>\n",
       "      <td>INTERNATIONAL PAPER CO /NEW/</td>\n",
       "      <td>130872805</td>\n",
       "      <td>4</td>\n",
       "      <td>2.942200e+13</td>\n",
       "    </tr>\n",
       "    <tr>\n",
       "      <th>9997</th>\n",
       "      <td>REALTY INCOME CORP</td>\n",
       "      <td>330580106</td>\n",
       "      <td>9</td>\n",
       "      <td>2.940657e+13</td>\n",
       "    </tr>\n",
       "    <tr>\n",
       "      <th>9998</th>\n",
       "      <td>DELL TECHNOLOGIES INC</td>\n",
       "      <td>800890963</td>\n",
       "      <td>11</td>\n",
       "      <td>2.940638e+13</td>\n",
       "    </tr>\n",
       "    <tr>\n",
       "      <th>9999</th>\n",
       "      <td>NOKIA CORP</td>\n",
       "      <td>000000000</td>\n",
       "      <td>4</td>\n",
       "      <td>2.940173e+13</td>\n",
       "    </tr>\n",
       "  </tbody>\n",
       "</table>\n",
       "<p>10000 rows × 4 columns</p>\n",
       "</div>"
      ],
      "text/plain": [
       "                             company_name        ein  group   total_value\n",
       "0                CREATIVE REALITIES, INC.  411967918      2  1.069411e+19\n",
       "1                CREATIVE REALITIES, INC.  411967918      3  1.069411e+19\n",
       "2                CREATIVE REALITIES, INC.  411967918      1  8.713716e+18\n",
       "3                              WOORI BANK  000000000      4  1.019612e+18\n",
       "4                 KB FINANCIAL GROUP INC.  000000000      5  9.551098e+17\n",
       "...                                   ...        ...    ...           ...\n",
       "9995  BRITISH TELECOMMUNICATIONS PLC /ADR  000000000     11  2.942280e+13\n",
       "9996         INTERNATIONAL PAPER CO /NEW/  130872805      4  2.942200e+13\n",
       "9997                   REALTY INCOME CORP  330580106      9  2.940657e+13\n",
       "9998                DELL TECHNOLOGIES INC  800890963     11  2.940638e+13\n",
       "9999                           NOKIA CORP  000000000      4  2.940173e+13\n",
       "\n",
       "[10000 rows x 4 columns]"
      ]
     },
     "execution_count": 97,
     "metadata": {},
     "output_type": "execute_result"
    }
   ],
   "source": [
    "join_sec"
   ]
  },
  {
   "cell_type": "code",
   "execution_count": 98,
   "id": "245f47db-aec0-4553-8309-c48f182c60ea",
   "metadata": {},
   "outputs": [
    {
     "name": "stdout",
     "output_type": "stream",
     "text": [
      "<class 'pandas.core.frame.DataFrame'>\n",
      "RangeIndex: 10000 entries, 0 to 9999\n",
      "Data columns (total 4 columns):\n",
      " #   Column        Non-Null Count  Dtype  \n",
      "---  ------        --------------  -----  \n",
      " 0   company_name  10000 non-null  object \n",
      " 1   ein           10000 non-null  object \n",
      " 2   group         10000 non-null  int64  \n",
      " 3   total_value   10000 non-null  float64\n",
      "dtypes: float64(1), int64(1), object(2)\n",
      "memory usage: 312.6+ KB\n"
     ]
    }
   ],
   "source": [
    "join_sec.info()"
   ]
  },
  {
   "cell_type": "code",
   "execution_count": 104,
   "id": "3e144780-6a6e-4764-a7d5-c4ede7c4dc31",
   "metadata": {},
   "outputs": [
    {
     "data": {
      "text/html": [
       "<div>\n",
       "<style scoped>\n",
       "    .dataframe tbody tr th:only-of-type {\n",
       "        vertical-align: middle;\n",
       "    }\n",
       "\n",
       "    .dataframe tbody tr th {\n",
       "        vertical-align: top;\n",
       "    }\n",
       "\n",
       "    .dataframe thead th {\n",
       "        text-align: right;\n",
       "    }\n",
       "</style>\n",
       "<table border=\"1\" class=\"dataframe\">\n",
       "  <thead>\n",
       "    <tr style=\"text-align: right;\">\n",
       "      <th></th>\n",
       "      <th>group</th>\n",
       "      <th>total_value</th>\n",
       "    </tr>\n",
       "  </thead>\n",
       "  <tbody>\n",
       "    <tr>\n",
       "      <th>count</th>\n",
       "      <td>10000.000000</td>\n",
       "      <td>1.000000e+04</td>\n",
       "    </tr>\n",
       "    <tr>\n",
       "      <th>mean</th>\n",
       "      <td>14.627500</td>\n",
       "      <td>8.689749e+15</td>\n",
       "    </tr>\n",
       "    <tr>\n",
       "      <th>std</th>\n",
       "      <td>11.737663</td>\n",
       "      <td>1.785041e+17</td>\n",
       "    </tr>\n",
       "    <tr>\n",
       "      <th>min</th>\n",
       "      <td>1.000000</td>\n",
       "      <td>2.940173e+13</td>\n",
       "    </tr>\n",
       "    <tr>\n",
       "      <th>25%</th>\n",
       "      <td>5.000000</td>\n",
       "      <td>4.896518e+13</td>\n",
       "    </tr>\n",
       "    <tr>\n",
       "      <th>50%</th>\n",
       "      <td>12.000000</td>\n",
       "      <td>1.022070e+14</td>\n",
       "    </tr>\n",
       "    <tr>\n",
       "      <th>75%</th>\n",
       "      <td>21.000000</td>\n",
       "      <td>3.493690e+14</td>\n",
       "    </tr>\n",
       "    <tr>\n",
       "      <th>max</th>\n",
       "      <td>74.000000</td>\n",
       "      <td>1.069411e+19</td>\n",
       "    </tr>\n",
       "  </tbody>\n",
       "</table>\n",
       "</div>"
      ],
      "text/plain": [
       "              group   total_value\n",
       "count  10000.000000  1.000000e+04\n",
       "mean      14.627500  8.689749e+15\n",
       "std       11.737663  1.785041e+17\n",
       "min        1.000000  2.940173e+13\n",
       "25%        5.000000  4.896518e+13\n",
       "50%       12.000000  1.022070e+14\n",
       "75%       21.000000  3.493690e+14\n",
       "max       74.000000  1.069411e+19"
      ]
     },
     "execution_count": 104,
     "metadata": {},
     "output_type": "execute_result"
    }
   ],
   "source": [
    "join_sec.describe()"
   ]
  },
  {
   "cell_type": "code",
   "execution_count": 105,
   "id": "f5b78b34-3a58-4901-a60e-6f2996a21df6",
   "metadata": {},
   "outputs": [],
   "source": [
    "join_sec.sort_values(by = 'total_value', inplace = True, ascending = False)"
   ]
  },
  {
   "cell_type": "code",
   "execution_count": 106,
   "id": "63603ed2-ad45-4989-9944-cab0ea7b8057",
   "metadata": {},
   "outputs": [],
   "source": [
    "join_sec.reset_index(inplace = True, drop = True)"
   ]
  },
  {
   "cell_type": "code",
   "execution_count": 107,
   "id": "690d3c97-16bd-42b3-bd3c-0fc6278f3adc",
   "metadata": {},
   "outputs": [
    {
     "data": {
      "image/png": "[encoded data removed]",
      "text/plain": [
       "<Figure size 1296x360 with 1 Axes>"
      ]
     },
     "metadata": {
      "needs_background": "light"
     },
     "output_type": "display_data"
    }
   ],
   "source": [
    "join_sec[['company_name', 'total_value']][:10].groupby('company_name').sum().sort_values(by = 'total_value', ascending = False).plot(kind = 'bar',\n",
    "                                                                                  figsize=(18,5),\n",
    "                                                                                  ylabel = 'value',\n",
    "                                                                                  rot = 45);"
   ]
  },
  {
   "cell_type": "code",
   "execution_count": 109,
   "id": "a565280d-028c-4b6b-b92d-11b8fee9cc5b",
   "metadata": {},
   "outputs": [
    {
     "data": {
      "text/plain": [
       "1     554\n",
       "2     518\n",
       "4     496\n",
       "3     490\n",
       "5     487\n",
       "     ... \n",
       "71      1\n",
       "65      1\n",
       "70      1\n",
       "69      1\n",
       "73      1\n",
       "Name: group, Length: 74, dtype: int64"
      ]
     },
     "execution_count": 109,
     "metadata": {},
     "output_type": "execute_result"
    }
   ],
   "source": [
    "join_sec['group'].value_counts()"
   ]
  },
  {
   "cell_type": "code",
   "execution_count": 113,
   "id": "f015faa2-bbe7-482d-8453-c49af1f98894",
   "metadata": {},
   "outputs": [
    {
     "data": {
      "image/png": "[encoded data removed]",
      "text/plain": [
       "<Figure size 1440x360 with 1 Axes>"
      ]
     },
     "metadata": {
      "needs_background": "light"
     },
     "output_type": "display_data"
    }
   ],
   "source": [
    "join_sec[['group', 'total_value']].groupby('group').sum().sort_values(by = 'total_value', ascending = False).plot(kind = 'bar',\n",
    "                                                                                                                 figsize = (20,5),\n",
    "                                                                                                                 ylabel = 'Value',\n",
    "                                                                                                                 title = 'Value by Group');"
   ]
  },
  {
   "cell_type": "code",
   "execution_count": null,
   "id": "84f2ed65-65a2-4d9a-827a-10ea9bc4b18b",
   "metadata": {},
   "outputs": [],
   "source": []
  }
 ],
 "metadata": {
  "kernelspec": {
   "display_name": "Python 3",
   "language": "python",
   "name": "python3"
  },
  "language_info": {
   "codemirror_mode": {
    "name": "ipython",
    "version": 3
   },
   "file_extension": ".py",
   "mimetype": "text/x-python",
   "name": "python",
   "nbconvert_exporter": "python",
   "pygments_lexer": "ipython3",
   "version": "3.7.11"
  }
 },
 "nbformat": 4,
 "nbformat_minor": 5
}
